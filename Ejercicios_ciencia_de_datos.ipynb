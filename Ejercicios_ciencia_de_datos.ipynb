{
  "nbformat": 4,
  "nbformat_minor": 0,
  "metadata": {
    "colab": {
      "provenance": [],
      "authorship_tag": "ABX9TyPwPy6/iRuQ+ClOD/3fOlsd",
      "include_colab_link": true
    },
    "kernelspec": {
      "name": "python3",
      "display_name": "Python 3"
    },
    "language_info": {
      "name": "python"
    }
  },
  "cells": [
    {
      "cell_type": "markdown",
      "metadata": {
        "id": "view-in-github",
        "colab_type": "text"
      },
      "source": [
        "<a href=\"https://colab.research.google.com/github/Juancho0520/Prueba-Github/blob/main/Ejercicios_ciencia_de_datos.ipynb\" target=\"_parent\"><img src=\"https://colab.research.google.com/assets/colab-badge.svg\" alt=\"Open In Colab\"/></a>"
      ]
    },
    {
      "cell_type": "code",
      "execution_count": 13,
      "metadata": {
        "colab": {
          "base_uri": "https://localhost:8080/"
        },
        "id": "3JRlmRcFgBQk",
        "outputId": "41cff065-e630-4270-ee8a-34d553a35717"
      },
      "outputs": [
        {
          "output_type": "stream",
          "name": "stdout",
          "text": [
            "Bienvenido a nuestra calculadora, a continuacion coloque tres valores que desee promediar\n",
            "Agregue el primer valor 27\n",
            "Agregue el segundo valor 33\n",
            "Agregue el tercer valor 30\n",
            "el promedio es: 30.0\n"
          ]
        }
      ],
      "source": [
        "#Ejercicio 1 promedio de tres numeros\n",
        "print (\"Bienvenido a nuestra calculadora, a continuacion coloque tres valores que desee promediar\")\n",
        "a = float(input(\"Agregue el primer valor \"))\n",
        "b = float(input(\"Agregue el segundo valor \"))\n",
        "c = float(input(\"Agregue el tercer valor \"))\n",
        "promedio= (a+b+c)/3\n",
        "print (\"el promedio es:\", promedio)\n"
      ]
    },
    {
      "cell_type": "code",
      "source": [
        "#Ejercicio 2 par o impar\n",
        "n = int (input(\"Bienvenido a nuestra calculadora, a continuacion coloque el valor al que desea comprobar si es par o impar \"))\n",
        "if n%2 == 0:\n",
        "  print (n, \"Este valor es par\")\n",
        "else:\n",
        "  print(n, \"este valor es impar\")"
      ],
      "metadata": {
        "colab": {
          "base_uri": "https://localhost:8080/"
        },
        "id": "VCRCp9W6h7H-",
        "outputId": "1f27d812-3892-40b0-ab6f-f1af77165c6e"
      },
      "execution_count": 15,
      "outputs": [
        {
          "output_type": "stream",
          "name": "stdout",
          "text": [
            "Bienvenido a nuestra calculadora, a continuacion coloque el valor al que desea comprobar si es par o impar 7\n",
            "7 este valor es impar\n"
          ]
        }
      ]
    },
    {
      "cell_type": "code",
      "source": [
        "#Ejercicio 3 factoriales\n",
        "import math\n",
        "x = int(input(\"Bienvenido a nuestra calculadora, a continuacion coloque el valor al que desea calcular su factorial \"))\n",
        "print (\"El factorial es :  \", end = \"\")\n",
        "print (math.factorial(x))"
      ],
      "metadata": {
        "colab": {
          "base_uri": "https://localhost:8080/"
        },
        "id": "fKxLEnwUjiSi",
        "outputId": "d4d7869a-289b-417d-9237-30edc4d3246f"
      },
      "execution_count": 16,
      "outputs": [
        {
          "output_type": "stream",
          "name": "stdout",
          "text": [
            "Bienvenido a nuestra calculadora, a continuacion coloque el valor al que desea calcular su factorial 4\n",
            "El factorial es :  24\n"
          ]
        }
      ]
    },
    {
      "cell_type": "code",
      "source": [
        "#Ejercicio 4 raiz cuadrada\n",
        "import math\n",
        "x = int(input(\"Bienvenido a nuestra calculadora, a continuacion coloque el valor al que desea saber la raiz cuadrada \"))\n",
        "raiz = math.sqrt (x)\n",
        "print (\"La raíz cuadrada de\" ,x, \"es:\", raiz)"
      ],
      "metadata": {
        "colab": {
          "base_uri": "https://localhost:8080/"
        },
        "id": "kFvEdeREkQNK",
        "outputId": "663e73ab-0763-4c59-eaa7-3487facb0bad"
      },
      "execution_count": 19,
      "outputs": [
        {
          "output_type": "stream",
          "name": "stdout",
          "text": [
            "Bienvenido a nuestra calculadora, a continuacion coloque el valor al que desea saber la raiz cuadrada 144\n",
            "La raíz cuadrada de 144 es: 12.0\n"
          ]
        }
      ]
    },
    {
      "cell_type": "code",
      "source": [
        "#Ejercicio 5 MCM\n",
        "def mcm (a, b):\n",
        "  def mcd (a, b):\n",
        "    while b !=0:\n",
        "      a, b = b,  a % b\n",
        "    return a\n",
        "  return (a * b) // mcd (a, b)\n",
        "\n",
        "num1 = int(input(\"Bienvenido. a nuestra calculadora, ingrese el primer valor al que le desea clacular el MCM \"))\n",
        "num2 = int(input(\"ingrese el segundo valor al que le desea clacular el MCM \"))\n",
        "resultado = mcm(num1, num2)\n",
        "print (\"el minimo comun multiplo de\" ,num1, \"y\" ,num2, \"es\", resultado)"
      ],
      "metadata": {
        "colab": {
          "base_uri": "https://localhost:8080/"
        },
        "id": "TOrHKA8zlY65",
        "outputId": "f6bcbe53-5ea0-48c1-d183-1c9d7a5124ee"
      },
      "execution_count": 22,
      "outputs": [
        {
          "output_type": "stream",
          "name": "stdout",
          "text": [
            "Bienvenido. a nuestra calculadora, ingrese el primer valor al que le desea clacular el MCM 3\n",
            "ingrese el segundo valor al que le desea clacular el MCM 4\n",
            "el minimo comun multiplo de 3 y 4 es 12\n"
          ]
        }
      ]
    }
  ]
}