{
  "nbformat": 4,
  "nbformat_minor": 0,
  "metadata": {
    "colab": {
      "provenance": [],
      "authorship_tag": "ABX9TyNaxvh7JZFELt5OE6djaA9+",
      "include_colab_link": true
    },
    "kernelspec": {
      "name": "python3",
      "display_name": "Python 3"
    },
    "language_info": {
      "name": "python"
    }
  },
  "cells": [
    {
      "cell_type": "markdown",
      "metadata": {
        "id": "view-in-github",
        "colab_type": "text"
      },
      "source": [
        "<a href=\"https://colab.research.google.com/github/Juancho0520/Prueba-Github/blob/main/Entregable_2_(Pandas)_ipynb.ipynb\" target=\"_parent\"><img src=\"https://colab.research.google.com/assets/colab-badge.svg\" alt=\"Open In Colab\"/></a>"
      ]
    },
    {
      "cell_type": "code",
      "execution_count": null,
      "metadata": {
        "id": "XekNX8o_c3Ai"
      },
      "outputs": [],
      "source": [
        "#Entregable 2. Ciencia de datos"
      ]
    },
    {
      "cell_type": "code",
      "source": [
        "#DataFrame"
      ],
      "metadata": {
        "id": "0vUSb8p2dHWj"
      },
      "execution_count": null,
      "outputs": []
    },
    {
      "cell_type": "code",
      "source": [
        "import pandas as pd\n",
        "\n",
        "\n",
        "data = {'Name': ['Juan', 'Felipe', 'Ana sofia', 'Victoria', 'Fernanda', 'Fernando', 'Andres', 'Santiago', 'Mateo', 'Sandra', 'Janette', 'Cesar', 'Federico', 'Matias', 'Juan Jose', 'Luisa', 'Marcos', 'Sara', 'Ana', 'Pablo', 'Claudia', 'Carolina', 'Diego', 'Santiago', 'Marta', 'Mauricio' ],\n",
        "        'Pathology': ['Tuberculosis', 'Dolor de cabeza', 'Hipertension', 'Esquizofrenia', 'Preclampsia', 'Diabetes', 'Anemia', 'Hipoglucemia', 'Congestion nasal', 'Esclerosis', 'Insuficiencia renal', 'Asma', 'Cancer', 'Epilepsia', 'VIH', 'Artritis', 'Alzhaimer', 'Parkinson', 'Fiebre', 'Hepatitis', 'Neumonia', 'Clamidia', 'Necrosis', 'Dermatitis', 'Psoriasis', 'Acné' ],\n",
        "        'Medicine' : ['Rifampina', 'Acetaminofen', 'Captopirl', 'ribotril', 'Benazepril', 'Insulina', 'Eritropoyetina', 'Glucagon', 'Utabon', 'Alemtuzumab','Accupril', 'Albuterol', 'Corticoide', 'Cabamazepina', 'Efavirenz', 'Ibuprofeno', 'Galatamina', 'Levodopa', 'Antiamarillica', 'Inmunoglobulina','Amoxicilina', 'Doxiciclina', 'Naproxeno', 'Clobetazol','Hidrocortizona', 'Tetraciclina' ],\n",
        "        'Age': ['32', '25' ,'28','36', '48', '53', '62', '23', '48', '42', '54', '39', '53', '18', '63', '72', '86', '34', '54', '63', '28', '32', '71', '43', '22', '41']}\n",
        "df = pd.DataFrame(data)\n",
        "print(df)\n",
        "\n"
      ],
      "metadata": {
        "colab": {
          "base_uri": "https://localhost:8080/"
        },
        "id": "LQpMmMbsdKLX",
        "outputId": "9ea48bb1-d63b-43a4-97c2-ea967f04b7d1"
      },
      "execution_count": null,
      "outputs": [
        {
          "output_type": "stream",
          "name": "stdout",
          "text": [
            "         Name            Pathology         Medicine Age\n",
            "0        Juan         Tuberculosis        Rifampina  32\n",
            "1      Felipe      Dolor de cabeza     Acetaminofen  25\n",
            "2   Ana sofia         Hipertension        Captopirl  28\n",
            "3    Victoria        Esquizofrenia         ribotril  36\n",
            "4    Fernanda          Preclampsia       Benazepril  48\n",
            "5    Fernando             Diabetes         Insulina  53\n",
            "6      Andres               Anemia   Eritropoyetina  62\n",
            "7    Santiago         Hipoglucemia         Glucagon  23\n",
            "8       Mateo     Congestion nasal           Utabon  48\n",
            "9      Sandra           Esclerosis      Alemtuzumab  42\n",
            "10    Janette  Insuficiencia renal         Accupril  54\n",
            "11      Cesar                 Asma        Albuterol  39\n",
            "12   Federico               Cancer       Corticoide  53\n",
            "13     Matias            Epilepsia     Cabamazepina  18\n",
            "14  Juan Jose                  VIH        Efavirenz  63\n",
            "15      Luisa             Artritis       Ibuprofeno  72\n",
            "16     Marcos            Alzhaimer       Galatamina  86\n",
            "17       Sara            Parkinson         Levodopa  34\n",
            "18        Ana               Fiebre   Antiamarillica  54\n",
            "19      Pablo            Hepatitis  Inmunoglobulina  63\n",
            "20    Claudia             Neumonia      Amoxicilina  28\n",
            "21   Carolina             Clamidia      Doxiciclina  32\n",
            "22      Diego             Necrosis        Naproxeno  71\n",
            "23   Santiago           Dermatitis       Clobetazol  43\n",
            "24      Marta            Psoriasis   Hidrocortizona  22\n",
            "25   Mauricio                 Acné     Tetraciclina  41\n"
          ]
        }
      ]
    },
    {
      "cell_type": "code",
      "source": [
        "#1. Seleccionar columna"
      ],
      "metadata": {
        "id": "zSfXM3Oayn7b"
      },
      "execution_count": null,
      "outputs": []
    },
    {
      "cell_type": "code",
      "source": [
        "print(df['Medicine'])"
      ],
      "metadata": {
        "colab": {
          "base_uri": "https://localhost:8080/"
        },
        "id": "DPThji-Jy3QL",
        "outputId": "e3145165-d76b-4558-c40c-7cfb0f8c695e"
      },
      "execution_count": null,
      "outputs": [
        {
          "output_type": "stream",
          "name": "stdout",
          "text": [
            "0           Rifampina\n",
            "1        Acetaminofen\n",
            "2           Captopirl\n",
            "3            ribotril\n",
            "4          Benazepril\n",
            "5            Insulina\n",
            "6      Eritropoyetina\n",
            "7            Glucagon\n",
            "8              Utabon\n",
            "9         Alemtuzumab\n",
            "10           Accupril\n",
            "11          Albuterol\n",
            "12         Corticoide\n",
            "13       Cabamazepina\n",
            "14          Efavirenz\n",
            "15         Ibuprofeno\n",
            "16         Galatamina\n",
            "17           Levodopa\n",
            "18     Antiamarillica\n",
            "19    Inmunoglobulina\n",
            "20        Amoxicilina\n",
            "21        Doxiciclina\n",
            "22          Naproxeno\n",
            "23         Clobetazol\n",
            "24     Hidrocortizona\n",
            "25       Tetraciclina\n",
            "Name: Medicine, dtype: object\n"
          ]
        }
      ]
    },
    {
      "cell_type": "code",
      "source": [
        "#2. Seleccionar Fila"
      ],
      "metadata": {
        "id": "Ld3UrdE0zNZp"
      },
      "execution_count": null,
      "outputs": []
    },
    {
      "cell_type": "code",
      "source": [
        "print(df.loc[16])\n",
        "print(df.iloc[21])"
      ],
      "metadata": {
        "colab": {
          "base_uri": "https://localhost:8080/"
        },
        "id": "mkGJ-kEY0F1n",
        "outputId": "c4335eb8-73a0-481a-d576-8615218d5dd7"
      },
      "execution_count": null,
      "outputs": [
        {
          "output_type": "stream",
          "name": "stdout",
          "text": [
            "Name             Marcos\n",
            "Pathology     Alzhaimer\n",
            "Medicine     Galatamina\n",
            "Age                  86\n",
            "Name: 16, dtype: object\n",
            "Name            Carolina\n",
            "Pathology       Clamidia\n",
            "Medicine     Doxiciclina\n",
            "Age                   32\n",
            "Name: 21, dtype: object\n"
          ]
        }
      ]
    },
    {
      "cell_type": "code",
      "source": [
        "#3. Estadistica Descriptiva"
      ],
      "metadata": {
        "id": "KqhtUmkz0Y3h"
      },
      "execution_count": null,
      "outputs": []
    },
    {
      "cell_type": "code",
      "source": [
        "print(df.describe())"
      ],
      "metadata": {
        "colab": {
          "base_uri": "https://localhost:8080/"
        },
        "id": "0S7xzTCA22VA",
        "outputId": "c358191b-64b4-4fbb-a62a-ddd439846c5e"
      },
      "execution_count": null,
      "outputs": [
        {
          "output_type": "stream",
          "name": "stdout",
          "text": [
            "            Name     Pathology   Medicine Age\n",
            "count         26            26         26  26\n",
            "unique        25            26         26  20\n",
            "top     Santiago  Tuberculosis  Rifampina  32\n",
            "freq           2             1          1   2\n"
          ]
        }
      ]
    },
    {
      "cell_type": "code",
      "source": [
        "#4. ordenar datos"
      ],
      "metadata": {
        "id": "y2Vrp5Kr5htT"
      },
      "execution_count": null,
      "outputs": []
    },
    {
      "cell_type": "code",
      "source": [
        "df_sorted = df.sort_values(by='Age', ascending=True)\n",
        "print(df_sorted)"
      ],
      "metadata": {
        "colab": {
          "base_uri": "https://localhost:8080/"
        },
        "id": "9-9XhykM5tfP",
        "outputId": "df39c1a5-70d7-4cc9-b3c6-0b8d011eb7d7"
      },
      "execution_count": null,
      "outputs": [
        {
          "output_type": "stream",
          "name": "stdout",
          "text": [
            "         Name            Pathology         Medicine Age\n",
            "13     Matias            Epilepsia     Cabamazepina  18\n",
            "24      Marta            Psoriasis   Hidrocortizona  22\n",
            "7    Santiago         Hipoglucemia         Glucagon  23\n",
            "1      Felipe      Dolor de cabeza     Acetaminofen  25\n",
            "2   Ana sofia         Hipertension        Captopirl  28\n",
            "20    Claudia             Neumonia      Amoxicilina  28\n",
            "0        Juan         Tuberculosis        Rifampina  32\n",
            "21   Carolina             Clamidia      Doxiciclina  32\n",
            "17       Sara            Parkinson         Levodopa  34\n",
            "3    Victoria        Esquizofrenia         ribotril  36\n",
            "11      Cesar                 Asma        Albuterol  39\n",
            "25   Mauricio                 Acné     Tetraciclina  41\n",
            "9      Sandra           Esclerosis      Alemtuzumab  42\n",
            "23   Santiago           Dermatitis       Clobetazol  43\n",
            "8       Mateo     Congestion nasal           Utabon  48\n",
            "4    Fernanda          Preclampsia       Benazepril  48\n",
            "5    Fernando             Diabetes         Insulina  53\n",
            "12   Federico               Cancer       Corticoide  53\n",
            "18        Ana               Fiebre   Antiamarillica  54\n",
            "10    Janette  Insuficiencia renal         Accupril  54\n",
            "6      Andres               Anemia   Eritropoyetina  62\n",
            "14  Juan Jose                  VIH        Efavirenz  63\n",
            "19      Pablo            Hepatitis  Inmunoglobulina  63\n",
            "22      Diego             Necrosis        Naproxeno  71\n",
            "15      Luisa             Artritis       Ibuprofeno  72\n",
            "16     Marcos            Alzhaimer       Galatamina  86\n"
          ]
        }
      ]
    },
    {
      "source": [
        "#5 Agrupar Datos\n",
        "df['Age'] = pd.to_numeric(df['Age'], errors='coerce')\n",
        "grouped = df.groupby('Pathology')['Age'].mean()\n",
        "print(grouped)"
      ],
      "cell_type": "code",
      "metadata": {
        "colab": {
          "base_uri": "https://localhost:8080/"
        },
        "id": "yqbEsXW69-lE",
        "outputId": "6afde760-d7d6-4278-f14c-1481ca9a43fc"
      },
      "execution_count": null,
      "outputs": [
        {
          "output_type": "stream",
          "name": "stdout",
          "text": [
            "Pathology\n",
            "Acné                   41.0\n",
            "Alzhaimer              86.0\n",
            "Anemia                 62.0\n",
            "Artritis               72.0\n",
            "Asma                   39.0\n",
            "Cancer                 53.0\n",
            "Clamidia               32.0\n",
            "Congestion nasal       48.0\n",
            "Dermatitis             43.0\n",
            "Diabetes               53.0\n",
            "Dolor de cabeza        25.0\n",
            "Epilepsia              18.0\n",
            "Esclerosis             42.0\n",
            "Esquizofrenia          36.0\n",
            "Fiebre                 54.0\n",
            "Hepatitis              63.0\n",
            "Hipertension           28.0\n",
            "Hipoglucemia           23.0\n",
            "Insuficiencia renal    54.0\n",
            "Necrosis               71.0\n",
            "Neumonia               28.0\n",
            "Parkinson              34.0\n",
            "Preclampsia            48.0\n",
            "Psoriasis              22.0\n",
            "Tuberculosis           32.0\n",
            "VIH                    63.0\n",
            "Name: Age, dtype: float64\n"
          ]
        }
      ]
    },
    {
      "source": [
        "#6. Crear columna con Lambda\n",
        "df['Category'] = df['Age'].astype(int).apply(lambda x: 'Senior' if x > 30 else 'Junior')\n",
        "print(df)"
      ],
      "cell_type": "code",
      "metadata": {
        "colab": {
          "base_uri": "https://localhost:8080/"
        },
        "id": "-nLRV5_j8xNF",
        "outputId": "768e8f01-c416-4695-cde5-6ff851897a18"
      },
      "execution_count": null,
      "outputs": [
        {
          "output_type": "stream",
          "name": "stdout",
          "text": [
            "         Name            Pathology         Medicine  Age Category\n",
            "0        Juan         Tuberculosis        Rifampina   32   Senior\n",
            "1      Felipe      Dolor de cabeza     Acetaminofen   25   Junior\n",
            "2   Ana sofia         Hipertension        Captopirl   28   Junior\n",
            "3    Victoria        Esquizofrenia         ribotril   36   Senior\n",
            "4    Fernanda          Preclampsia       Benazepril   48   Senior\n",
            "5    Fernando             Diabetes         Insulina   53   Senior\n",
            "6      Andres               Anemia   Eritropoyetina   62   Senior\n",
            "7    Santiago         Hipoglucemia         Glucagon   23   Junior\n",
            "8       Mateo     Congestion nasal           Utabon   48   Senior\n",
            "9      Sandra           Esclerosis      Alemtuzumab   42   Senior\n",
            "10    Janette  Insuficiencia renal         Accupril   54   Senior\n",
            "11      Cesar                 Asma        Albuterol   39   Senior\n",
            "12   Federico               Cancer       Corticoide   53   Senior\n",
            "13     Matias            Epilepsia     Cabamazepina   18   Junior\n",
            "14  Juan Jose                  VIH        Efavirenz   63   Senior\n",
            "15      Luisa             Artritis       Ibuprofeno   72   Senior\n",
            "16     Marcos            Alzhaimer       Galatamina   86   Senior\n",
            "17       Sara            Parkinson         Levodopa   34   Senior\n",
            "18        Ana               Fiebre   Antiamarillica   54   Senior\n",
            "19      Pablo            Hepatitis  Inmunoglobulina   63   Senior\n",
            "20    Claudia             Neumonia      Amoxicilina   28   Junior\n",
            "21   Carolina             Clamidia      Doxiciclina   32   Senior\n",
            "22      Diego             Necrosis        Naproxeno   71   Senior\n",
            "23   Santiago           Dermatitis       Clobetazol   43   Senior\n",
            "24      Marta            Psoriasis   Hidrocortizona   22   Junior\n",
            "25   Mauricio                 Acné     Tetraciclina   41   Senior\n"
          ]
        }
      ]
    },
    {
      "cell_type": "code",
      "source": [
        "#7. Tipo de datos\n",
        "df['Age'] = df['Age'].astype(float)\n",
        "print(df.dtypes)"
      ],
      "metadata": {
        "colab": {
          "base_uri": "https://localhost:8080/"
        },
        "id": "MpDBs3Ig-_ha",
        "outputId": "d2efaacd-8a19-48b9-a221-e853d3a459b2"
      },
      "execution_count": null,
      "outputs": [
        {
          "output_type": "stream",
          "name": "stdout",
          "text": [
            "Name          object\n",
            "Pathology     object\n",
            "Medicine      object\n",
            "Age          float64\n",
            "Category      object\n",
            "dtype: object\n"
          ]
        }
      ]
    },
    {
      "cell_type": "code",
      "source": [
        "#8. Buscar valor específico\n",
        "print(df[df['Pathology'] == 'Preclampsia'])"
      ],
      "metadata": {
        "colab": {
          "base_uri": "https://localhost:8080/"
        },
        "id": "i9G0g4GG_SnD",
        "outputId": "4f040413-3edf-4aa3-da51-f78dc12f1561"
      },
      "execution_count": null,
      "outputs": [
        {
          "output_type": "stream",
          "name": "stdout",
          "text": [
            "       Name    Pathology    Medicine   Age Category\n",
            "4  Fernanda  Preclampsia  Benazepril  48.0   Senior\n"
          ]
        }
      ]
    },
    {
      "cell_type": "code",
      "source": [
        "#9. Mostrar cantidad limitada de celdas\n",
        "print(df.head(4))\n",
        "print(df.tail(4))"
      ],
      "metadata": {
        "colab": {
          "base_uri": "https://localhost:8080/"
        },
        "id": "3ACm5jW1_vrw",
        "outputId": "c8810c06-638f-416f-baac-eec7a89b76bc"
      },
      "execution_count": null,
      "outputs": [
        {
          "output_type": "stream",
          "name": "stdout",
          "text": [
            "        Name        Pathology      Medicine   Age Category\n",
            "0       Juan     Tuberculosis     Rifampina  32.0   Senior\n",
            "1     Felipe  Dolor de cabeza  Acetaminofen  25.0   Junior\n",
            "2  Ana sofia     Hipertension     Captopirl  28.0   Junior\n",
            "3   Victoria    Esquizofrenia      ribotril  36.0   Senior\n",
            "        Name   Pathology        Medicine   Age Category\n",
            "22     Diego    Necrosis       Naproxeno  71.0   Senior\n",
            "23  Santiago  Dermatitis      Clobetazol  43.0   Senior\n",
            "24     Marta   Psoriasis  Hidrocortizona  22.0   Junior\n",
            "25  Mauricio        Acné    Tetraciclina  41.0   Senior\n"
          ]
        }
      ]
    },
    {
      "cell_type": "code",
      "source": [
        "#10 Cambiar el nombre de las columnas\n",
        "df.rename(columns={'Name': 'Patient', 'Medicine': 'treatment'}, inplace=True)\n",
        "print(df)"
      ],
      "metadata": {
        "colab": {
          "base_uri": "https://localhost:8080/"
        },
        "id": "g9oAzG9hAImR",
        "outputId": "45abf442-b6cb-4b71-cd32-c7e1321600a4"
      },
      "execution_count": null,
      "outputs": [
        {
          "output_type": "stream",
          "name": "stdout",
          "text": [
            "      Patient            Pathology        treatment   Age Category\n",
            "0        Juan         Tuberculosis        Rifampina  32.0   Senior\n",
            "1      Felipe      Dolor de cabeza     Acetaminofen  25.0   Junior\n",
            "2   Ana sofia         Hipertension        Captopirl  28.0   Junior\n",
            "3    Victoria        Esquizofrenia         ribotril  36.0   Senior\n",
            "4    Fernanda          Preclampsia       Benazepril  48.0   Senior\n",
            "5    Fernando             Diabetes         Insulina  53.0   Senior\n",
            "6      Andres               Anemia   Eritropoyetina  62.0   Senior\n",
            "7    Santiago         Hipoglucemia         Glucagon  23.0   Junior\n",
            "8       Mateo     Congestion nasal           Utabon  48.0   Senior\n",
            "9      Sandra           Esclerosis      Alemtuzumab  42.0   Senior\n",
            "10    Janette  Insuficiencia renal         Accupril  54.0   Senior\n",
            "11      Cesar                 Asma        Albuterol  39.0   Senior\n",
            "12   Federico               Cancer       Corticoide  53.0   Senior\n",
            "13     Matias            Epilepsia     Cabamazepina  18.0   Junior\n",
            "14  Juan Jose                  VIH        Efavirenz  63.0   Senior\n",
            "15      Luisa             Artritis       Ibuprofeno  72.0   Senior\n",
            "16     Marcos            Alzhaimer       Galatamina  86.0   Senior\n",
            "17       Sara            Parkinson         Levodopa  34.0   Senior\n",
            "18        Ana               Fiebre   Antiamarillica  54.0   Senior\n",
            "19      Pablo            Hepatitis  Inmunoglobulina  63.0   Senior\n",
            "20    Claudia             Neumonia      Amoxicilina  28.0   Junior\n",
            "21   Carolina             Clamidia      Doxiciclina  32.0   Senior\n",
            "22      Diego             Necrosis        Naproxeno  71.0   Senior\n",
            "23   Santiago           Dermatitis       Clobetazol  43.0   Senior\n",
            "24      Marta            Psoriasis   Hidrocortizona  22.0   Junior\n",
            "25   Mauricio                 Acné     Tetraciclina  41.0   Senior\n"
          ]
        }
      ]
    }
  ]
}